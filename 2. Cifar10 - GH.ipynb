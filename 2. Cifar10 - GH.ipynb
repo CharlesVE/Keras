{
 "cells": [
  {
   "cell_type": "markdown",
   "metadata": {},
   "source": [
    "# 2. Keras - Cifar 10 Dataset"
   ]
  },
  {
   "cell_type": "markdown",
   "metadata": {},
   "source": [
    "Sources: \n",
    "https://towardsdatascience.com/simple-introduction-to-convolutional-neural-networks-cdf8d3077bac\n",
    "https://www.pyimagesearch.com/2018/12/31/keras-conv2d-and-convolutional-layers/    \n",
    "https://qph.fs.quoracdn.net/main-qimg-704ab7dc6b6ea6e7e919daab06a63537"
   ]
  },
  {
   "cell_type": "markdown",
   "metadata": {},
   "source": [
    "Here I shall use convolutional neural networks to classify 10 different types of images."
   ]
  },
  {
   "cell_type": "code",
   "execution_count": 1,
   "metadata": {},
   "outputs": [],
   "source": [
    "from keras.datasets import cifar10\n",
    "from keras.utils import np_utils\n",
    "from keras.models import Sequential\n",
    "from keras.layers.core import Dense, Dropout, Activation, Flatten\n",
    "from keras.layers.convolutional import Conv2D, MaxPooling2D\n",
    "from keras.optimizers import SGD, Adam, RMSprop\n",
    "\n",
    "from keras.preprocessing.image import ImageDataGenerator"
   ]
  },
  {
   "cell_type": "code",
   "execution_count": 2,
   "metadata": {},
   "outputs": [],
   "source": [
    "import matplotlib.pyplot as plt"
   ]
  },
  {
   "cell_type": "code",
   "execution_count": 3,
   "metadata": {},
   "outputs": [],
   "source": [
    "# CIFAR_10 is a dataset of 60,000 images of  32x32 pixels on 3 channels(RBG)"
   ]
  },
  {
   "cell_type": "code",
   "execution_count": 4,
   "metadata": {},
   "outputs": [],
   "source": [
    "IMG_CHANNELS = 3\n",
    "IMG_ROWS = 32\n",
    "IMG_COLS = 32\n",
    "\n",
    "# Constant\n",
    "BATCH_SIZE = 128\n",
    "NB_EPOCH = 40\n",
    "NB_CLASSES = 10\n",
    "VERBOSE = 1\n",
    "VALIDATION_SPLIT = 0.2\n",
    "OPTIM = RMSprop()"
   ]
  },
  {
   "cell_type": "code",
   "execution_count": 5,
   "metadata": {},
   "outputs": [
    {
     "name": "stdout",
     "output_type": "stream",
     "text": [
      "A local file was found, but it seems to be incomplete or outdated because the auto file hash does not match the original value of 6d958be074577803d12ecdefd02955f39262c83c16fe9348329d7fe0b5c001ce so we will re-download the data.\n",
      "Downloading data from https://www.cs.toronto.edu/~kriz/cifar-10-python.tar.gz\n",
      "170500096/170498071 [==============================] - 1780s 10us/step\n",
      "X_train shape: (50000, 32, 32, 3)\n",
      "50000 train samples\n",
      "10000 test samples\n"
     ]
    }
   ],
   "source": [
    "# Load dataset\n",
    "\n",
    "(X_train, y_train), (X_test, y_test) = cifar10.load_data()\n",
    "\n",
    "print('X_train shape:', X_train.shape)\n",
    "print(X_train.shape[0], 'train samples')\n",
    "print(X_test.shape[0], 'test samples')"
   ]
  },
  {
   "cell_type": "code",
   "execution_count": 6,
   "metadata": {},
   "outputs": [],
   "source": [
    "# convert to categorical"
   ]
  },
  {
   "cell_type": "code",
   "execution_count": 7,
   "metadata": {},
   "outputs": [],
   "source": [
    "Y_train = np_utils.to_categorical(y_train, NB_CLASSES)\n",
    "Y_test = np_utils.to_categorical(y_test, NB_CLASSES) "
   ]
  },
  {
   "cell_type": "code",
   "execution_count": 8,
   "metadata": {},
   "outputs": [],
   "source": [
    "# float and normalization"
   ]
  },
  {
   "cell_type": "code",
   "execution_count": 9,
   "metadata": {},
   "outputs": [],
   "source": [
    "X_train = X_train.astype('float32')\n",
    "X_test = X_test.astype('float32')\n",
    "\n",
    "# Scaling\n",
    "X_train /= 255\n",
    "X_test /= 255"
   ]
  },
  {
   "cell_type": "code",
   "execution_count": 10,
   "metadata": {},
   "outputs": [],
   "source": [
    "# Network Building"
   ]
  },
  {
   "cell_type": "code",
   "execution_count": 11,
   "metadata": {},
   "outputs": [],
   "source": [
    "model = Sequential()\n",
    " \n",
    "model.add(Conv2D(32, kernel_size=3, padding='same',\n",
    "                        input_shape=(IMG_ROWS, IMG_COLS, IMG_CHANNELS)))\n",
    "model.add(Activation('relu'))\n",
    "model.add(Conv2D(32, kernel_size=3, padding='same'))\n",
    "model.add(Activation('relu'))\n",
    "model.add(MaxPooling2D(pool_size=(2, 2)))\n",
    "model.add(Dropout(0.25))\n",
    " \n",
    "model.add(Conv2D(64, kernel_size=3, padding='same'))\n",
    "model.add(Activation('relu'))\n",
    "model.add(Conv2D(64, 3, 3))\n",
    "model.add(Activation('relu'))\n",
    "model.add(MaxPooling2D(pool_size=(2, 2)))\n",
    "model.add(Dropout(0.25))\n",
    " \n",
    "model.add(Flatten())\n",
    "model.add(Dense(512))\n",
    "model.add(Activation('relu'))\n",
    "model.add(Dropout(0.5))\n",
    "model.add(Dense(NB_CLASSES))\n",
    "model.add(Activation('softmax'))"
   ]
  },
  {
   "cell_type": "markdown",
   "metadata": {},
   "source": [
    "# Padding Explained"
   ]
  },
  {
   "cell_type": "markdown",
   "metadata": {},
   "source": [
    "Padding is applied when a kernel is applied to the edge of our image. Additional 'fictional' pixels are added to the border. All 'fictional' pixels have a value of zero. Depending on the number of outer layers of fictional pixels there are distinguishes us between two types of padding..."
   ]
  },
  {
   "cell_type": "markdown",
   "metadata": {},
   "source": [
    "Full padding is when you increase the size of the output. This is done by introducting enough fictional pixels such that every 'real' pixel is visited by the kernal the same number of times. "
   ]
  },
  {
   "cell_type": "markdown",
   "metadata": {},
   "source": [
    "Same padding is when the output is ensured to be the same size as the input by creating enough fictional pixels that have a value of zero."
   ]
  },
  {
   "cell_type": "markdown",
   "metadata": {},
   "source": [
    "Padding essentially makes the feature maps produced by the filter kernels the same size as the original image. This is very useful for deep CNN’s as we don’t want the output to be reduced so that we only have a 2x2 region left at the end of the network upon which to predict our result."
   ]
  },
  {
   "cell_type": "code",
   "execution_count": 12,
   "metadata": {},
   "outputs": [],
   "source": [
    "# Model Summary and Compilation"
   ]
  },
  {
   "cell_type": "code",
   "execution_count": 13,
   "metadata": {},
   "outputs": [
    {
     "name": "stdout",
     "output_type": "stream",
     "text": [
      "Model: \"sequential\"\n",
      "_________________________________________________________________\n",
      "Layer (type)                 Output Shape              Param #   \n",
      "=================================================================\n",
      "conv2d (Conv2D)              (None, 32, 32, 32)        896       \n",
      "_________________________________________________________________\n",
      "activation (Activation)      (None, 32, 32, 32)        0         \n",
      "_________________________________________________________________\n",
      "conv2d_1 (Conv2D)            (None, 32, 32, 32)        9248      \n",
      "_________________________________________________________________\n",
      "activation_1 (Activation)    (None, 32, 32, 32)        0         \n",
      "_________________________________________________________________\n",
      "max_pooling2d (MaxPooling2D) (None, 16, 16, 32)        0         \n",
      "_________________________________________________________________\n",
      "dropout (Dropout)            (None, 16, 16, 32)        0         \n",
      "_________________________________________________________________\n",
      "conv2d_2 (Conv2D)            (None, 16, 16, 64)        18496     \n",
      "_________________________________________________________________\n",
      "activation_2 (Activation)    (None, 16, 16, 64)        0         \n",
      "_________________________________________________________________\n",
      "conv2d_3 (Conv2D)            (None, 5, 5, 64)          36928     \n",
      "_________________________________________________________________\n",
      "activation_3 (Activation)    (None, 5, 5, 64)          0         \n",
      "_________________________________________________________________\n",
      "max_pooling2d_1 (MaxPooling2 (None, 2, 2, 64)          0         \n",
      "_________________________________________________________________\n",
      "dropout_1 (Dropout)          (None, 2, 2, 64)          0         \n",
      "_________________________________________________________________\n",
      "flatten (Flatten)            (None, 256)               0         \n",
      "_________________________________________________________________\n",
      "dense (Dense)                (None, 512)               131584    \n",
      "_________________________________________________________________\n",
      "activation_4 (Activation)    (None, 512)               0         \n",
      "_________________________________________________________________\n",
      "dropout_2 (Dropout)          (None, 512)               0         \n",
      "_________________________________________________________________\n",
      "dense_1 (Dense)              (None, 10)                5130      \n",
      "_________________________________________________________________\n",
      "activation_5 (Activation)    (None, 10)                0         \n",
      "=================================================================\n",
      "Total params: 202,282\n",
      "Trainable params: 202,282\n",
      "Non-trainable params: 0\n",
      "_________________________________________________________________\n"
     ]
    }
   ],
   "source": [
    "model.summary()\n",
    "model.compile(loss='categorical_crossentropy', optimizer=OPTIM, metrics=['accuracy'])"
   ]
  },
  {
   "cell_type": "code",
   "execution_count": 14,
   "metadata": {},
   "outputs": [],
   "source": [
    "datagen = ImageDataGenerator(\n",
    "        featurewise_center=False,  # set input mean to 0 over the dataset\n",
    "        samplewise_center=False,  # set each sample mean to 0\n",
    "        featurewise_std_normalization=False,  # divide inputs by std of the dataset\n",
    "        samplewise_std_normalization=False,  # divide each input by its std\n",
    "        zca_whitening=False,  # apply ZCA whitening\n",
    "        rotation_range=0,  # randomly rotate images in the range (degrees, 0 to 180)\n",
    "        width_shift_range=0.1,  # randomly shift images horizontally (fraction of total width)\n",
    "        height_shift_range=0.1,  # randomly shift images vertically (fraction of total height)\n",
    "        horizontal_flip=True,  # randomly flip images\n",
    "        vertical_flip=False)  # randomly flip images\n",
    "\n",
    "datagen.fit(X_train)"
   ]
  },
  {
   "cell_type": "code",
   "execution_count": 15,
   "metadata": {},
   "outputs": [],
   "source": [
    "# Training the Network"
   ]
  },
  {
   "cell_type": "code",
   "execution_count": 16,
   "metadata": {},
   "outputs": [
    {
     "name": "stdout",
     "output_type": "stream",
     "text": [
      "Epoch 1/40\n",
      "313/313 [==============================] - 59s 190ms/step - loss: 1.9651 - accuracy: 0.2744 - val_loss: 1.7230 - val_accuracy: 0.3640\n",
      "Epoch 2/40\n",
      "313/313 [==============================] - 59s 190ms/step - loss: 1.6416 - accuracy: 0.3978 - val_loss: 1.4368 - val_accuracy: 0.4802\n",
      "Epoch 3/40\n",
      "313/313 [==============================] - 60s 192ms/step - loss: 1.4823 - accuracy: 0.4603 - val_loss: 1.3616 - val_accuracy: 0.5038\n",
      "Epoch 4/40\n",
      "313/313 [==============================] - 63s 202ms/step - loss: 1.3850 - accuracy: 0.4984 - val_loss: 1.2839 - val_accuracy: 0.5373\n",
      "Epoch 5/40\n",
      "313/313 [==============================] - 63s 202ms/step - loss: 1.3039 - accuracy: 0.5307 - val_loss: 1.2739 - val_accuracy: 0.5372\n",
      "Epoch 6/40\n",
      "313/313 [==============================] - 4138s 13s/step - loss: 1.2345 - accuracy: 0.5590 - val_loss: 1.1710 - val_accuracy: 0.5796\n",
      "Epoch 7/40\n",
      "313/313 [==============================] - 59s 187ms/step - loss: 1.1810 - accuracy: 0.5794 - val_loss: 1.0929 - val_accuracy: 0.6140\n",
      "Epoch 8/40\n",
      "313/313 [==============================] - 63s 202ms/step - loss: 1.1382 - accuracy: 0.5958 - val_loss: 1.0874 - val_accuracy: 0.6176\n",
      "Epoch 9/40\n",
      "313/313 [==============================] - 69s 220ms/step - loss: 1.0964 - accuracy: 0.6128 - val_loss: 0.9990 - val_accuracy: 0.6452\n",
      "Epoch 10/40\n",
      "313/313 [==============================] - 67s 216ms/step - loss: 1.0636 - accuracy: 0.6241 - val_loss: 1.0462 - val_accuracy: 0.6362\n",
      "Epoch 11/40\n",
      "313/313 [==============================] - 83s 265ms/step - loss: 1.0373 - accuracy: 0.6349 - val_loss: 0.9618 - val_accuracy: 0.6638\n",
      "Epoch 12/40\n",
      "313/313 [==============================] - 71s 227ms/step - loss: 1.0095 - accuracy: 0.6459 - val_loss: 0.9938 - val_accuracy: 0.6549\n",
      "Epoch 13/40\n",
      "313/313 [==============================] - 69s 220ms/step - loss: 0.9839 - accuracy: 0.6521 - val_loss: 0.9536 - val_accuracy: 0.6658\n",
      "Epoch 14/40\n",
      "313/313 [==============================] - 65s 208ms/step - loss: 0.9625 - accuracy: 0.6619 - val_loss: 0.8928 - val_accuracy: 0.6857\n",
      "Epoch 15/40\n",
      "313/313 [==============================] - 70s 225ms/step - loss: 0.9434 - accuracy: 0.6675 - val_loss: 0.9730 - val_accuracy: 0.6646\n",
      "Epoch 16/40\n",
      "313/313 [==============================] - 64s 204ms/step - loss: 0.9230 - accuracy: 0.6759 - val_loss: 0.8759 - val_accuracy: 0.6958\n",
      "Epoch 17/40\n",
      "313/313 [==============================] - 67s 216ms/step - loss: 0.9076 - accuracy: 0.6800 - val_loss: 0.9983 - val_accuracy: 0.6690\n",
      "Epoch 18/40\n",
      "313/313 [==============================] - 65s 208ms/step - loss: 0.8942 - accuracy: 0.6871 - val_loss: 0.9000 - val_accuracy: 0.6868\n",
      "Epoch 19/40\n",
      "313/313 [==============================] - 64s 203ms/step - loss: 0.8749 - accuracy: 0.6942 - val_loss: 0.9964 - val_accuracy: 0.6549\n",
      "Epoch 20/40\n",
      "313/313 [==============================] - 71s 228ms/step - loss: 0.8655 - accuracy: 0.6959 - val_loss: 0.8630 - val_accuracy: 0.7009\n",
      "Epoch 21/40\n",
      "313/313 [==============================] - 99s 315ms/step - loss: 0.8568 - accuracy: 0.7011 - val_loss: 0.8445 - val_accuracy: 0.7009\n",
      "Epoch 22/40\n",
      "313/313 [==============================] - 108s 344ms/step - loss: 0.8407 - accuracy: 0.7053 - val_loss: 0.8301 - val_accuracy: 0.7112\n",
      "Epoch 23/40\n",
      "313/313 [==============================] - 81s 258ms/step - loss: 0.8313 - accuracy: 0.7107 - val_loss: 0.8089 - val_accuracy: 0.7207\n",
      "Epoch 24/40\n",
      "313/313 [==============================] - 67s 213ms/step - loss: 0.8175 - accuracy: 0.7130 - val_loss: 0.8523 - val_accuracy: 0.7055\n",
      "Epoch 25/40\n",
      "313/313 [==============================] - 73s 233ms/step - loss: 0.8090 - accuracy: 0.7157 - val_loss: 0.8159 - val_accuracy: 0.7230\n",
      "Epoch 26/40\n",
      "313/313 [==============================] - 67s 215ms/step - loss: 0.8050 - accuracy: 0.7164 - val_loss: 0.8608 - val_accuracy: 0.7024\n",
      "Epoch 27/40\n",
      "313/313 [==============================] - 100s 320ms/step - loss: 0.7990 - accuracy: 0.7213 - val_loss: 0.8286 - val_accuracy: 0.7108\n",
      "Epoch 28/40\n",
      "313/313 [==============================] - 91s 290ms/step - loss: 0.7901 - accuracy: 0.7243 - val_loss: 0.8730 - val_accuracy: 0.6959\n",
      "Epoch 29/40\n",
      "313/313 [==============================] - 75s 239ms/step - loss: 0.7841 - accuracy: 0.7284 - val_loss: 0.7833 - val_accuracy: 0.7300\n",
      "Epoch 30/40\n",
      "313/313 [==============================] - 63s 203ms/step - loss: 0.7837 - accuracy: 0.7271 - val_loss: 0.9092 - val_accuracy: 0.6898\n",
      "Epoch 31/40\n",
      "313/313 [==============================] - 62s 198ms/step - loss: 0.7729 - accuracy: 0.7280 - val_loss: 0.8464 - val_accuracy: 0.7109\n",
      "Epoch 32/40\n",
      "313/313 [==============================] - 64s 204ms/step - loss: 0.7673 - accuracy: 0.7347 - val_loss: 0.8075 - val_accuracy: 0.7294\n",
      "Epoch 33/40\n",
      "313/313 [==============================] - 60s 192ms/step - loss: 0.7617 - accuracy: 0.7330 - val_loss: 0.8549 - val_accuracy: 0.7092\n",
      "Epoch 34/40\n",
      "313/313 [==============================] - 59s 189ms/step - loss: 0.7535 - accuracy: 0.7368 - val_loss: 0.8737 - val_accuracy: 0.7128\n",
      "Epoch 35/40\n",
      "313/313 [==============================] - 67s 214ms/step - loss: 0.7589 - accuracy: 0.7347 - val_loss: 0.8554 - val_accuracy: 0.7129\n",
      "Epoch 36/40\n",
      "313/313 [==============================] - 61s 196ms/step - loss: 0.7437 - accuracy: 0.7408 - val_loss: 0.8357 - val_accuracy: 0.7175\n",
      "Epoch 37/40\n",
      "313/313 [==============================] - 62s 198ms/step - loss: 0.7466 - accuracy: 0.7419 - val_loss: 0.8143 - val_accuracy: 0.7249\n",
      "Epoch 38/40\n",
      "313/313 [==============================] - 62s 200ms/step - loss: 0.7521 - accuracy: 0.7393 - val_loss: 0.8571 - val_accuracy: 0.7036\n",
      "Epoch 39/40\n",
      "313/313 [==============================] - 64s 204ms/step - loss: 0.7408 - accuracy: 0.7423 - val_loss: 0.8669 - val_accuracy: 0.7108\n",
      "Epoch 40/40\n",
      "313/313 [==============================] - 60s 192ms/step - loss: 0.7393 - accuracy: 0.7434 - val_loss: 0.8233 - val_accuracy: 0.7218\n"
     ]
    }
   ],
   "source": [
    "history = model.fit(X_train, Y_train, batch_size=BATCH_SIZE,\n",
    "    epochs=NB_EPOCH, validation_split=VALIDATION_SPLIT, \n",
    "    verbose=VERBOSE)"
   ]
  },
  {
   "cell_type": "code",
   "execution_count": 17,
   "metadata": {},
   "outputs": [
    {
     "name": "stdout",
     "output_type": "stream",
     "text": [
      "Testing...\n",
      "79/79 [==============================] - 3s 41ms/step - loss: 0.8388 - accuracy: 0.7175\n",
      "\n",
      "Test score: 0.8388040065765381\n",
      "Test accuracy: 0.7174999713897705\n"
     ]
    }
   ],
   "source": [
    "print('Testing...')\n",
    "score = model.evaluate(X_test, Y_test,\n",
    "                     batch_size=BATCH_SIZE, verbose=VERBOSE)\n",
    "print(\"\\nTest score:\", score[0])\n",
    "print('Test accuracy:', score[1])"
   ]
  },
  {
   "cell_type": "code",
   "execution_count": 18,
   "metadata": {},
   "outputs": [],
   "source": [
    "# Saving the model for later Use"
   ]
  },
  {
   "cell_type": "code",
   "execution_count": 19,
   "metadata": {},
   "outputs": [],
   "source": [
    "model_json = model.to_json()\n",
    "open('cifar10_architecture.json', 'w').write(model_json)\n",
    "model.save_weights('cifar10_weights.h5', overwrite=True)"
   ]
  },
  {
   "cell_type": "code",
   "execution_count": null,
   "metadata": {},
   "outputs": [],
   "source": [
    "print(history.history.keys())"
   ]
  },
  {
   "cell_type": "code",
   "execution_count": 21,
   "metadata": {},
   "outputs": [
    {
     "name": "stdout",
     "output_type": "stream",
     "text": [
      "dict_keys(['loss', 'accuracy', 'val_loss', 'val_accuracy'])\n"
     ]
    },
    {
     "data": {
      "image/png": "[encoded data removed]",
      "text/plain": [
       "<Figure size 432x288 with 1 Axes>"
      ]
     },
     "metadata": {
      "needs_background": "light"
     },
     "output_type": "display_data"
    },
    {
     "data": {
      "image/png": "[encoded data removed]",
      "text/plain": [
       "<Figure size 432x288 with 1 Axes>"
      ]
     },
     "metadata": {
      "needs_background": "light"
     },
     "output_type": "display_data"
    }
   ],
   "source": [
    "# summarize history for accuracy\n",
    "plt.plot(history.history['accuracy'])\n",
    "plt.plot(history.history['val_accuracy'])\n",
    "plt.title('model accuracy')\n",
    "plt.ylabel('accuracy')\n",
    "plt.xlabel('epoch')\n",
    "plt.legend(['train', 'test'], loc='upper left')\n",
    "plt.show()\n",
    "\n",
    "# summarize history for loss\n",
    "plt.plot(history.history['loss'])\n",
    "plt.plot(history.history['val_loss'])\n",
    "plt.title('model loss')\n",
    "plt.ylabel('loss')\n",
    "plt.xlabel('epoch')\n",
    "plt.legend(['train', 'test'], loc='upper left')\n",
    "plt.show()"
   ]
  }
 ],
 "metadata": {
  "kernelspec": {
   "display_name": "Python 3",
   "language": "python",
   "name": "python3"
  },
  "language_info": {
   "codemirror_mode": {
    "name": "ipython",
    "version": 3
   },
   "file_extension": ".py",
   "mimetype": "text/x-python",
   "name": "python",
   "nbconvert_exporter": "python",
   "pygments_lexer": "ipython3",
   "version": "3.8.5"
  }
 },
 "nbformat": 4,
 "nbformat_minor": 5
}
