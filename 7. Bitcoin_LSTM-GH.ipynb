{
 "cells": [
  {
   "cell_type": "markdown",
   "metadata": {},
   "source": [
    "# Keras - LSTM Model"
   ]
  },
  {
   "cell_type": "markdown",
   "metadata": {},
   "source": [
    "Sources:\n",
    "1. https://machinelearningmastery.com/gentle-introduction-long-short-term-memory-networks-experts/\n",
    "2. https://keras.io/api/layers/recurrent_layers/lstm/"
   ]
  },
  {
   "cell_type": "markdown",
   "metadata": {},
   "source": [
    "Here I take advantage of the Keras Long Short Term Memory model in order to predict a time series (Bitcoin price)."
   ]
  },
  {
   "cell_type": "code",
   "execution_count": 1,
   "metadata": {
    "id": "rQDRcY902y8A"
   },
   "outputs": [],
   "source": [
    "import math\n",
    "import matplotlib.pyplot as plt\n",
    "import keras\n",
    "import pandas as pd\n",
    "import numpy as np\n",
    "from keras.models import Sequential\n",
    "from keras.layers import Dense\n",
    "from keras.layers import LSTM\n",
    "from keras.layers import Dropout\n",
    "from keras.layers import *\n",
    "from sklearn.preprocessing import MinMaxScaler\n",
    "from sklearn.metrics import mean_squared_error\n",
    "from sklearn.metrics import mean_absolute_error\n",
    "from sklearn.model_selection import train_test_split\n",
    "from keras.callbacks import EarlyStopping"
   ]
  },
  {
   "cell_type": "code",
   "execution_count": 2,
   "metadata": {
    "id": "B5KK1rfM26WH"
   },
   "outputs": [],
   "source": [
    "df=pd.read_csv('/content/Bitcoin ($1) - MASTER.csv')"
   ]
  },
  {
   "cell_type": "code",
   "execution_count": 10,
   "metadata": {
    "id": "6eIDuR-Z28Ty"
   },
   "outputs": [],
   "source": [
    "training_set=df.iloc[:1500,4:5].values\n",
    "test_set=df.iloc[1500:,4:5].values"
   ]
  },
  {
   "cell_type": "code",
   "execution_count": 18,
   "metadata": {
    "colab": {
     "base_uri": "https://localhost:8080/",
     "height": 407
    },
    "id": "S4GnR41y5eqV",
    "outputId": "d37e903f-4113-4b66-c82f-786559315deb"
   },
   "outputs": [
    {
     "data": {
      "text/html": [
       "<div>\n",
       "<style scoped>\n",
       "    .dataframe tbody tr th:only-of-type {\n",
       "        vertical-align: middle;\n",
       "    }\n",
       "\n",
       "    .dataframe tbody tr th {\n",
       "        vertical-align: top;\n",
       "    }\n",
       "\n",
       "    .dataframe thead th {\n",
       "        text-align: right;\n",
       "    }\n",
       "</style>\n",
       "<table border=\"1\" class=\"dataframe\">\n",
       "  <thead>\n",
       "    <tr style=\"text-align: right;\">\n",
       "      <th></th>\n",
       "      <th>Timestamp</th>\n",
       "      <th>Open</th>\n",
       "      <th>High</th>\n",
       "      <th>Low</th>\n",
       "      <th>Close</th>\n",
       "    </tr>\n",
       "  </thead>\n",
       "  <tbody>\n",
       "    <tr>\n",
       "      <th>0</th>\n",
       "      <td>2014:07:17-00:00:00</td>\n",
       "      <td>613.0</td>\n",
       "      <td>628.9</td>\n",
       "      <td>610.0</td>\n",
       "      <td>623.1</td>\n",
       "    </tr>\n",
       "    <tr>\n",
       "      <th>1</th>\n",
       "      <td>2014:07:18-00:00:00</td>\n",
       "      <td>623.2</td>\n",
       "      <td>632.8</td>\n",
       "      <td>618.5</td>\n",
       "      <td>629.8</td>\n",
       "    </tr>\n",
       "    <tr>\n",
       "      <th>2</th>\n",
       "      <td>2014:07:19-00:00:00</td>\n",
       "      <td>629.8</td>\n",
       "      <td>632.1</td>\n",
       "      <td>625.0</td>\n",
       "      <td>630.4</td>\n",
       "    </tr>\n",
       "    <tr>\n",
       "      <th>3</th>\n",
       "      <td>2014:07:20-00:00:00</td>\n",
       "      <td>630.4</td>\n",
       "      <td>630.9</td>\n",
       "      <td>620.0</td>\n",
       "      <td>624.0</td>\n",
       "    </tr>\n",
       "    <tr>\n",
       "      <th>4</th>\n",
       "      <td>2014:07:21-00:00:00</td>\n",
       "      <td>624.0</td>\n",
       "      <td>626.9</td>\n",
       "      <td>615.0</td>\n",
       "      <td>620.1</td>\n",
       "    </tr>\n",
       "    <tr>\n",
       "      <th>...</th>\n",
       "      <td>...</td>\n",
       "      <td>...</td>\n",
       "      <td>...</td>\n",
       "      <td>...</td>\n",
       "      <td>...</td>\n",
       "    </tr>\n",
       "    <tr>\n",
       "      <th>2240</th>\n",
       "      <td>2021:02:20-00:00:00</td>\n",
       "      <td>55280.8</td>\n",
       "      <td>57462.4</td>\n",
       "      <td>53959.4</td>\n",
       "      <td>55855.3</td>\n",
       "    </tr>\n",
       "    <tr>\n",
       "      <th>2241</th>\n",
       "      <td>2021:02:21-00:00:00</td>\n",
       "      <td>55859.1</td>\n",
       "      <td>58285.5</td>\n",
       "      <td>55473.9</td>\n",
       "      <td>57419.6</td>\n",
       "    </tr>\n",
       "    <tr>\n",
       "      <th>2242</th>\n",
       "      <td>2021:02:22-00:00:00</td>\n",
       "      <td>57419.5</td>\n",
       "      <td>57499.9</td>\n",
       "      <td>47793.8</td>\n",
       "      <td>54073.5</td>\n",
       "    </tr>\n",
       "    <tr>\n",
       "      <th>2243</th>\n",
       "      <td>2021:02:23-00:00:00</td>\n",
       "      <td>54070.1</td>\n",
       "      <td>54128.8</td>\n",
       "      <td>44866.9</td>\n",
       "      <td>48845.6</td>\n",
       "    </tr>\n",
       "    <tr>\n",
       "      <th>2244</th>\n",
       "      <td>2021:02:24-00:00:00</td>\n",
       "      <td>48845.8</td>\n",
       "      <td>51345.3</td>\n",
       "      <td>46965.1</td>\n",
       "      <td>51088.3</td>\n",
       "    </tr>\n",
       "  </tbody>\n",
       "</table>\n",
       "<p>2245 rows × 5 columns</p>\n",
       "</div>"
      ],
      "text/plain": [
       "                Timestamp     Open     High      Low    Close\n",
       "0     2014:07:17-00:00:00    613.0    628.9    610.0    623.1\n",
       "1     2014:07:18-00:00:00    623.2    632.8    618.5    629.8\n",
       "2     2014:07:19-00:00:00    629.8    632.1    625.0    630.4\n",
       "3     2014:07:20-00:00:00    630.4    630.9    620.0    624.0\n",
       "4     2014:07:21-00:00:00    624.0    626.9    615.0    620.1\n",
       "...                   ...      ...      ...      ...      ...\n",
       "2240  2021:02:20-00:00:00  55280.8  57462.4  53959.4  55855.3\n",
       "2241  2021:02:21-00:00:00  55859.1  58285.5  55473.9  57419.6\n",
       "2242  2021:02:22-00:00:00  57419.5  57499.9  47793.8  54073.5\n",
       "2243  2021:02:23-00:00:00  54070.1  54128.8  44866.9  48845.6\n",
       "2244  2021:02:24-00:00:00  48845.8  51345.3  46965.1  51088.3\n",
       "\n",
       "[2245 rows x 5 columns]"
      ]
     },
     "execution_count": 18,
     "metadata": {
      "tags": []
     },
     "output_type": "execute_result"
    }
   ],
   "source": [
    "df"
   ]
  },
  {
   "cell_type": "code",
   "execution_count": 21,
   "metadata": {
    "colab": {
     "base_uri": "https://localhost:8080/"
    },
    "id": "OiRxrPKYUnw5",
    "outputId": "41e192e3-e3c0-47a5-9bf8-7866912b1faa"
   },
   "outputs": [
    {
     "data": {
      "text/plain": [
       "745"
      ]
     },
     "execution_count": 21,
     "metadata": {
      "tags": []
     },
     "output_type": "execute_result"
    }
   ],
   "source": [
    "len(test_set)"
   ]
  },
  {
   "cell_type": "code",
   "execution_count": 12,
   "metadata": {
    "id": "TaXk2PrJ3G5w"
   },
   "outputs": [],
   "source": [
    "# Feature Scaling\n",
    "sc = MinMaxScaler(feature_range = (0, 1))\n",
    "training_set_scaled = sc.fit_transform(training_set)\n",
    "X_train = []\n",
    "y_train = []\n",
    "for i in range(60, 1500):\n",
    "    X_train.append(training_set_scaled[i-60:i, 0])\n",
    "    y_train.append(training_set_scaled[i, 0])\n",
    "X_train, y_train = np.array(X_train), np.array(y_train)\n",
    "X_train = np.reshape(X_train, (X_train.shape[0], X_train.shape[1], 1))\n"
   ]
  },
  {
   "cell_type": "code",
   "execution_count": 20,
   "metadata": {
    "colab": {
     "base_uri": "https://localhost:8080/"
    },
    "id": "PsX-3O7fVQfc",
    "outputId": "6311761f-0d4a-459c-e1c8-b0655ae915e3"
   },
   "outputs": [
    {
     "data": {
      "text/plain": [
       "60"
      ]
     },
     "execution_count": 20,
     "metadata": {
      "tags": []
     },
     "output_type": "execute_result"
    }
   ],
   "source": [
    "X_train.shape[1]"
   ]
  },
  {
   "cell_type": "code",
   "execution_count": null,
   "metadata": {
    "id": "W2FMFhHB3MSz"
   },
   "outputs": [],
   "source": [
    "model = Sequential()\n",
    "#Adding the first LSTM layer and some Dropout regularisation\n",
    "model.add(LSTM(units = 50, return_sequences = True, input_shape = (X_train.shape[1], 1)))\n",
    "model.add(Dropout(0.2))\n",
    "# Adding a second LSTM layer and some Dropout regularisation\n",
    "model.add(LSTM(units = 50, return_sequences = True))\n",
    "model.add(Dropout(0.2))\n",
    "# Adding a third LSTM layer and some Dropout regularisation\n",
    "model.add(LSTM(units = 50, return_sequences = True))\n",
    "model.add(Dropout(0.2))\n",
    "# Adding a fourth LSTM layer and some Dropout regularisation\n",
    "model.add(LSTM(units = 50))\n",
    "model.add(Dropout(0.2))\n",
    "# Adding the output layer\n",
    "model.add(Dense(units = 1))\n",
    "\n",
    "# Compiling the RNN\n",
    "model.compile(optimizer = 'adam', loss = 'mean_squared_error')\n",
    "\n",
    "# Fitting the RNN to the Training set\n",
    "model.fit(X_train, y_train, epochs = 100, batch_size = 32)"
   ]
  },
  {
   "cell_type": "code",
   "execution_count": 14,
   "metadata": {
    "colab": {
     "base_uri": "https://localhost:8080/"
    },
    "id": "LTajU71_3QjA",
    "outputId": "eb099369-4a77-4dde-a5e2-900bdb0723be"
   },
   "outputs": [
    {
     "name": "stdout",
     "output_type": "stream",
     "text": [
      "(745, 60, 1)\n"
     ]
    }
   ],
   "source": [
    "\n",
    "dataset_train = df.iloc[:1500, 4:5]\n",
    "dataset_test = df.iloc[1500:, 4:5]\n",
    "\n",
    "dataset_total = pd.concat((dataset_train, dataset_test), axis = 0)\n",
    "inputs = dataset_total[len(dataset_total) - len(dataset_test) - 60:].values\n",
    "inputs = inputs.reshape(-1,1)\n",
    "inputs = sc.transform(inputs)\n",
    "X_test = []\n",
    "for i in range(60, 805):\n",
    "    X_test.append(inputs[i-60:i, 0])\n",
    "X_test = np.array(X_test)\n",
    "X_test = np.reshape(X_test, (X_test.shape[0], X_test.shape[1], 1))\n",
    "print(X_test.shape)\n"
   ]
  },
  {
   "cell_type": "code",
   "execution_count": 16,
   "metadata": {
    "id": "_0aIITyb3xP_"
   },
   "outputs": [],
   "source": [
    "predicted_stock_price = model.predict(X_test)\n",
    "predicted_stock_price = sc.inverse_transform(predicted_stock_price)"
   ]
  },
  {
   "cell_type": "code",
   "execution_count": 23,
   "metadata": {
    "colab": {
     "base_uri": "https://localhost:8080/",
     "height": 893
    },
    "id": "znMRlyGs3ykn",
    "outputId": "2fce942d-bd37-4559-f27d-245bee995f5c"
   },
   "outputs": [
    {
     "data": {
      "image/png": "[encoded data removed]",
      "text/plain": [
       "<Figure size 1080x1080 with 1 Axes>"
      ]
     },
     "metadata": {
      "needs_background": "light",
      "tags": []
     },
     "output_type": "display_data"
    }
   ],
   "source": [
    "# Visualising the results\n",
    "plt.figure(figsize=(15,15))\n",
    "plt.plot(df.loc[1500:,'Timestamp'],dataset_test.values, color = 'red', label = 'Real Stock Price')\n",
    "plt.plot(df.loc[1500:, 'Timestamp'],predicted_stock_price, color = 'blue', label = 'Predicted Stock Price')\n",
    "plt.xticks(np.arange(0,745,50))\n",
    "plt.title('Stock Price Prediction')\n",
    "plt.xlabel('Time')\n",
    "plt.ylabel('Stock Price')\n",
    "plt.legend()\n",
    "plt.show()"
   ]
  }
 ],
 "metadata": {
  "accelerator": "GPU",
  "colab": {
   "collapsed_sections": [],
   "name": "btc_stock.ipynb",
   "provenance": []
  },
  "kernelspec": {
   "display_name": "Python 3",
   "language": "python",
   "name": "python3"
  },
  "language_info": {
   "codemirror_mode": {
    "name": "ipython",
    "version": 3
   },
   "file_extension": ".py",
   "mimetype": "text/x-python",
   "name": "python",
   "nbconvert_exporter": "python",
   "pygments_lexer": "ipython3",
   "version": "3.8.5"
  }
 },
 "nbformat": 4,
 "nbformat_minor": 1
}
